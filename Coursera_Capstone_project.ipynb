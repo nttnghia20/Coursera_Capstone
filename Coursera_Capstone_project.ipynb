{
    "cells": [
        {
            "cell_type": "markdown",
            "metadata": {},
            "source": "Welcome to my Coursera_Capstone pro"
        },
        {
            "cell_type": "code",
            "execution_count": 5,
            "metadata": {},
            "outputs": [],
            "source": "import pandas as pd"
        },
        {
            "cell_type": "code",
            "execution_count": 6,
            "metadata": {},
            "outputs": [
                {
                    "name": "stdout",
                    "output_type": "stream",
                    "text": "Solving environment: done\n\n## Package Plan ##\n\n  environment location: /opt/conda/envs/Python36\n\n  added / updated specs: \n    - numpy\n\n\nThe following packages will be downloaded:\n\n    package                    |            build\n    ---------------------------|-----------------\n    openssl-1.1.1f             |       h7b6447c_0         3.8 MB\n    numpy-1.18.1               |   py36h4f9e942_0           5 KB\n    certifi-2020.4.5.1         |           py36_0         159 KB\n    mkl-2020.0                 |              166       202.1 MB\n    numpy-base-1.18.1          |   py36hde5b4d6_1         5.2 MB\n    mkl-service-2.3.0          |   py36he904b0f_0         208 KB\n    ------------------------------------------------------------\n                                           Total:       211.5 MB\n\nThe following packages will be UPDATED:\n\n    certifi:     2019.11.28-py36_0     --> 2020.4.5.1-py36_0    \n    mkl:         2019.1-144            --> 2020.0-166           \n    mkl-service: 1.1.2-py36he904b0f_5  --> 2.3.0-py36he904b0f_0 \n    numpy:       1.15.4-py36h7e9f1db_0 --> 1.18.1-py36h4f9e942_0\n    numpy-base:  1.15.4-py36hde5b4d6_0 --> 1.18.1-py36hde5b4d6_1\n    openssl:     1.1.1e-h7b6447c_0     --> 1.1.1f-h7b6447c_0    \n\n\nDownloading and Extracting Packages\nopenssl-1.1.1f       | 3.8 MB    | ##################################### | 100% \nnumpy-1.18.1         | 5 KB      | ##################################### | 100% \ncertifi-2020.4.5.1   | 159 KB    | ##################################### | 100% \nmkl-2020.0           | 202.1 MB  | ##################################### | 100% \nnumpy-base-1.18.1    | 5.2 MB    | ##################################### | 100% \nmkl-service-2.3.0    | 208 KB    | ##################################### | 100% \nPreparing transaction: done\nVerifying transaction: done\nExecuting transaction: done\n"
                }
            ],
            "source": "import sys\n!conda install --yes --prefix {sys.prefix} numpy\nimport numpy as np"
        },
        {
            "cell_type": "code",
            "execution_count": 8,
            "metadata": {},
            "outputs": [
                {
                    "name": "stdout",
                    "output_type": "stream",
                    "text": "Hello Capstone Project Course!\n"
                }
            ],
            "source": "print(\"Hello Capstone Project Course!\")"
        },
        {
            "cell_type": "code",
            "execution_count": null,
            "metadata": {},
            "outputs": [],
            "source": ""
        }
    ],
    "metadata": {
        "kernelspec": {
            "display_name": "Python 3.6",
            "language": "python",
            "name": "python3"
        },
        "language_info": {
            "codemirror_mode": {
                "name": "ipython",
                "version": 3
            },
            "file_extension": ".py",
            "mimetype": "text/x-python",
            "name": "python",
            "nbconvert_exporter": "python",
            "pygments_lexer": "ipython3",
            "version": "3.6.9"
        }
    },
    "nbformat": 4,
    "nbformat_minor": 1
}