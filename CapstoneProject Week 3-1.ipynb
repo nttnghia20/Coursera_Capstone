{
    "cells": [
        {
            "cell_type": "markdown",
            "metadata": {},
            "source": "### Import libraries"
        },
        {
            "cell_type": "code",
            "execution_count": 1,
            "metadata": {
                "scrolled": true
            },
            "outputs": [
                {
                    "name": "stdout",
                    "output_type": "stream",
                    "text": "Waiting for a Spark session to start...\nSpark Initialization Done! ApplicationId = app-20200419172635-0001\nKERNEL_ID = ad164ac0-683f-4611-bd7d-86e9b88464ee\n"
                }
            ],
            "source": "import requests\nfrom bs4 import BeautifulSoup\nimport pandas as pd"
        },
        {
            "cell_type": "markdown",
            "metadata": {},
            "source": "### Get data from Wiki"
        },
        {
            "cell_type": "code",
            "execution_count": 2,
            "metadata": {},
            "outputs": [],
            "source": "url = 'https://en.wikipedia.org/wiki/List_of_postal_codes_of_Canada:_M'\nwiki_html = requests.get(url).text\nsoup = BeautifulSoup(wiki_html, 'html.parser')\n\ndata = []\nfor tor in soup.tbody.find_all('tr'):\n    data.append([ td.get_text().strip() for td in tor.find_all('td')])"
        },
        {
            "cell_type": "markdown",
            "metadata": {},
            "source": "### Data cleaning"
        },
        {
            "cell_type": "code",
            "execution_count": 3,
            "metadata": {},
            "outputs": [],
            "source": "# Clean Borough column\n# Import to pandas\ndf=pd.DataFrame(data,columns=['PostalCode','Borough','Neighborhood2'])\n\n# Find indexes of rows that have \"Not assigned\" in Borough column\nindexNames = df[(df['Borough'] == \"Not assigned\")].index\n\n# Drop rows that have \"Not assigned\" in Borough column\ndf.drop(indexNames,inplace=True)\n\n# Drop the first row\ndf.dropna(inplace=True)\n\n# Combine multiple rows into one row based on PostalCode and Borough\ndf=df.groupby(['PostalCode','Borough'])['Neighborhood2'].apply(', '.join).reset_index()"
        },
        {
            "cell_type": "code",
            "execution_count": 4,
            "metadata": {},
            "outputs": [
                {
                    "name": "stdout",
                    "output_type": "stream",
                    "text": "There are 0 rows that have 'Not assigned' in Neighborhood column in the dataframe\n"
                },
                {
                    "data": {
                        "text/html": "<div>\n<style scoped>\n    .dataframe tbody tr th:only-of-type {\n        vertical-align: middle;\n    }\n\n    .dataframe tbody tr th {\n        vertical-align: top;\n    }\n\n    .dataframe thead th {\n        text-align: right;\n    }\n</style>\n<table border=\"1\" class=\"dataframe\">\n  <thead>\n    <tr style=\"text-align: right;\">\n      <th></th>\n      <th>PostalCode</th>\n      <th>Borough</th>\n      <th>Neighborhood</th>\n    </tr>\n  </thead>\n  <tbody>\n    <tr>\n      <th>0</th>\n      <td>M1B</td>\n      <td>Scarborough</td>\n      <td>Malvern / Rouge</td>\n    </tr>\n    <tr>\n      <th>1</th>\n      <td>M1C</td>\n      <td>Scarborough</td>\n      <td>Rouge Hill / Port Union / Highland Creek</td>\n    </tr>\n    <tr>\n      <th>2</th>\n      <td>M1E</td>\n      <td>Scarborough</td>\n      <td>Guildwood / Morningside / West Hill</td>\n    </tr>\n    <tr>\n      <th>3</th>\n      <td>M1G</td>\n      <td>Scarborough</td>\n      <td>Woburn</td>\n    </tr>\n    <tr>\n      <th>4</th>\n      <td>M1H</td>\n      <td>Scarborough</td>\n      <td>Cedarbrae</td>\n    </tr>\n  </tbody>\n</table>\n</div>",
                        "text/plain": "  PostalCode      Borough                              Neighborhood\n0        M1B  Scarborough                           Malvern / Rouge\n1        M1C  Scarborough  Rouge Hill / Port Union / Highland Creek\n2        M1E  Scarborough       Guildwood / Morningside / West Hill\n3        M1G  Scarborough                                    Woburn\n4        M1H  Scarborough                                 Cedarbrae"
                    },
                    "execution_count": 4,
                    "metadata": {},
                    "output_type": "execute_result"
                }
            ],
            "source": "# Clean Neighborhood column\n# Replace \"Not assigned\" in Neighborhood column with the value in Borough column\ndef custom_fx(data):\n    if data['Neighborhood2']=='Not assigned':\n        var=data['Borough']\n    else:\n        var=data['Neighborhood2']\n    return var\n\n# Apply the function\ndf['Neighborhood']=df.apply(custom_fx,axis='columns')\n\n# Check that there is no more \"Not assigned\" in Neighborhood column\nprint(\"There are {} rows that have 'Not assigned' in Neighborhood column in the dataframe\".format(\n    len(df[df['Neighborhood']=='Not assigned'])\n        )\n    )\n\n# Delete Neighborhood2 column\ndf.drop(columns='Neighborhood2', inplace = True)\ndf.head()"
        },
        {
            "cell_type": "code",
            "execution_count": 7,
            "metadata": {},
            "outputs": [
                {
                    "data": {
                        "text/plain": "{'file_name': 'tor_df.csv',\n 'message': 'File saved to project storage.',\n 'bucket_name': 'courseracapstoneprojectweek31-donotdelete-pr-0htiy8o9vqapci',\n 'asset_id': '7b978183-4d5d-4ed8-96e1-6f57cb777ead'}"
                    },
                    "execution_count": 7,
                    "metadata": {},
                    "output_type": "execute_result"
                }
            ],
            "source": "# Import Project to save data to Storage Cloud of IBM Watson\n# I remove my project-id and token after\n\nfrom project_lib import Project\nproject = Project(sc,\"prj-id\",\"prj-token\")\nproject.save_data(file_name = \"tor_df.csv\",data = df.to_csv(index=False), overwrite = True)"
        }
    ],
    "metadata": {
        "kernelspec": {
            "display_name": "Python 3.6 with Spark",
            "language": "python3",
            "name": "python36"
        },
        "language_info": {
            "codemirror_mode": {
                "name": "ipython",
                "version": 3
            },
            "file_extension": ".py",
            "mimetype": "text/x-python",
            "name": "python",
            "nbconvert_exporter": "python",
            "pygments_lexer": "ipython3",
            "version": "3.6.8"
        }
    },
    "nbformat": 4,
    "nbformat_minor": 1
}